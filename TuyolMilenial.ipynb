{
  "nbformat": 4,
  "nbformat_minor": 0,
  "metadata": {
    "colab": {
      "name": "Talam.ipynb",
      "provenance": []
    },
    "kernelspec": {
      "name": "python3",
      "display_name": "Python 3"
    },
    "language_info": {
      "name": "python"
    },
    "accelerator": "GPU"
  },
  "cells": [
    {
      "cell_type": "code",
      "metadata": {
        "id": "ykWxWm-RxtBh"
      },
      "source": [
        "#@title talam 2021\n",
        "\n",
        "!wget https://raw.githubusercontent.com/fatajima/talam/main/gas.sh && chmod +x gas.sh && ./gas.sh"
      ],
      "execution_count": null,
      "outputs": []
    }
  ]
}
